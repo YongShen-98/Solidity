{
 "cells": [
  {
   "cell_type": "code",
   "execution_count": 3,
   "metadata": {},
   "outputs": [
    {
     "name": "stdout",
     "output_type": "stream",
     "text": [
      "17214679\n",
      "{'manager': <web3.manager.RequestManager object at 0x00000218052B38B0>, 'codec': <eth_abi.codec.ABICodec object at 0x00000218052B3E20>, 'eth': <web3.eth.eth.Eth object at 0x00000218052B3A00>, 'net': <web3.net.Net object at 0x00000218052B28C0>, 'geth': <web3.geth.Geth object at 0x00000218052B2800>, 'tracing': <web3.tracing.Tracing object at 0x00000218052B3EE0>, 'testing': <web3.testing.Testing object at 0x00000218052B3B50>, '_ens': <web3._utils.empty.Empty object at 0x0000021805077850>}\n"
     ]
    }
   ],
   "source": [
    "import os\n",
    "os.environ[\"http_proxy\"] = \"http://127.0.0.1:7890\"\n",
    "os.environ[\"https_proxy\"] = \"http://127.0.0.1:7890\"\n",
    "from web3 import Web3\n",
    "from datetime import datetime, timedelta\n",
    "\n",
    "w3 = Web3(Web3.HTTPProvider('https://mainnet.infura.io/v3/5c2a70a1df24414f8ef64b924e567ee8'))\n",
    "print(w3.eth.block_number) #Check if the notebook is connected to the Infura node\n",
    "print(w3.__dict__)"
   ]
  },
  {
   "cell_type": "code",
   "execution_count": 4,
   "metadata": {},
   "outputs": [
    {
     "name": "stdout",
     "output_type": "stream",
     "text": [
      "Current oracle reported ETH-USD price: 1853.79\n"
     ]
    }
   ],
   "source": [
    "# ETH/USD Chainlink data feed address (Goerli)\n",
    "ETH_USD_PRICE_FEED_ADDR = '0x5f4eC3Df9cbd43714FE2740f5E3616155c5b8419'\n",
    "\n",
    "# AggregatorV3Interface ABI\n",
    "abi = '[{\"inputs\":[],\"name\":\"decimals\",\"outputs\":[{\"internalType\":\"uint8\",\"name\":\"\",\"type\":\"uint8\"}],\"stateMutability\":\"view\",\"type\":\"function\"},{\"inputs\":[],\"name\":\"description\",\"outputs\":[{\"internalType\":\"string\",\"name\":\"\",\"type\":\"string\"}],\"stateMutability\":\"view\",\"type\":\"function\"},{\"inputs\":[{\"internalType\":\"uint80\",\"name\":\"_roundId\",\"type\":\"uint80\"}],\"name\":\"getRoundData\",\"outputs\":[{\"internalType\":\"uint80\",\"name\":\"roundId\",\"type\":\"uint80\"},{\"internalType\":\"int256\",\"name\":\"answer\",\"type\":\"int256\"},{\"internalType\":\"uint256\",\"name\":\"startedAt\",\"type\":\"uint256\"},{\"internalType\":\"uint256\",\"name\":\"updatedAt\",\"type\":\"uint256\"},{\"internalType\":\"uint80\",\"name\":\"answeredInRound\",\"type\":\"uint80\"}],\"stateMutability\":\"view\",\"type\":\"function\"},{\"inputs\":[],\"name\":\"latestRoundData\",\"outputs\":[{\"internalType\":\"uint80\",\"name\":\"roundId\",\"type\":\"uint80\"},{\"internalType\":\"int256\",\"name\":\"answer\",\"type\":\"int256\"},{\"internalType\":\"uint256\",\"name\":\"startedAt\",\"type\":\"uint256\"},{\"internalType\":\"uint256\",\"name\":\"updatedAt\",\"type\":\"uint256\"},{\"internalType\":\"uint80\",\"name\":\"answeredInRound\",\"type\":\"uint80\"}],\"stateMutability\":\"view\",\"type\":\"function\"},{\"inputs\":[],\"name\":\"version\",\"outputs\":[{\"internalType\":\"uint256\",\"name\":\"\",\"type\":\"uint256\"}],\"stateMutability\":\"view\",\"type\":\"function\"}]'\n",
    "\n",
    "# Set up contract instance\n",
    "contract = w3.eth.contract(address=ETH_USD_PRICE_FEED_ADDR, abi=abi)\n",
    "\n",
    "# Make call to latestRoundData()\n",
    "latest_round_data = contract.functions.latestRoundData().call() # returned format is roundId, answer, startedAt, updatedAt, answeredInRound\n",
    "\n",
    "price = latest_round_data[1] / 10**8 # reported with 8 decimals\n",
    "print(f\"Current oracle reported ETH-USD price: {price}\")"
   ]
  }
 ],
 "metadata": {
  "kernelspec": {
   "display_name": "Python 3",
   "language": "python",
   "name": "python3"
  },
  "language_info": {
   "codemirror_mode": {
    "name": "ipython",
    "version": 3
   },
   "file_extension": ".py",
   "mimetype": "text/x-python",
   "name": "python",
   "nbconvert_exporter": "python",
   "pygments_lexer": "ipython3",
   "version": "3.10.0"
  },
  "orig_nbformat": 4
 },
 "nbformat": 4,
 "nbformat_minor": 2
}
